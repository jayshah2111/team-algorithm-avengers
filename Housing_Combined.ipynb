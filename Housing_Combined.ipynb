{
 "cells": [
  {
   "cell_type": "code",
   "execution_count": 23,
   "id": "a61ed7d4-dfdf-4aea-a1e1-340d62bf5e0b",
   "metadata": {},
   "outputs": [],
   "source": [
    "import pandas as pd\n",
    "import os"
   ]
  },
  {
   "cell_type": "code",
   "execution_count": 170,
   "id": "f0e328e0-873c-4c33-9537-9ca5912ec10d",
   "metadata": {},
   "outputs": [
    {
     "name": "stdout",
     "output_type": "stream",
     "text": [
      "['2019_February.csv', '2019_April.csv', '2013_January.csv', '2014_December.csv', '2016_May.csv', '2017_October.csv', '2020_May.csv', '2014_April.csv', '2013_March.csv', '2016_August.csv', '2012_November.csv', '2015_November.csv', '2013_August.csv', '2015_December.csv', '2012_December.csv', '2018_February.csv', '2018_March.csv', '2016_January.csv', '2020_October.csv', '2014_November.csv', '2020_March.csv', '2013_November.csv', '2012_October.csv', '2020_September.csv', '2017_May.csv', '2012_April.csv', '2015_March.csv', '2019_September.csv', '2018_April.csv', '2013_September.csv', '2019_August.csv', '2015_January.csv', '2019_November.csv', '2017_September.csv', '2015_April.csv', '2012_March.csv', '2012_February.csv', '2018_October.csv', '2015_February.csv', '2015_May.csv', '2020_April.csv', '2018_December.csv', '2014_August.csv', '2018_November.csv', '2017_July.csv', '2019_January.csv', '2016_July.csv', '2014_May.csv', '2019_March.csv', '2014_October.csv', '2019_December.csv', '2017_June.csv', '2016_June.csv', '2013_April.csv', '2014_March.csv', '2014_February.csv', '2014_September.csv', '2013_February.csv', '2020_February.csv', '.csv', '2013_October.csv', '2018_May.csv', '2012_August.csv', '2017_January.csv', '2015_September.csv', '2016_February.csv', '2016_April.csv', '2016_September.csv', '2013_June.csv', '2012_June.csv', '2012_September.csv', '2019_July.csv', '2018_July.csv', '2017_February.csv', '2017_August.csv', '2020_August.csv', '2016_October.csv', '2019_May.csv', '2020_January.csv', '2017_March.csv', '2013_July.csv', '2012_July.csv', '2019_June.csv', '2018_June.csv', '2017_December.csv', '2012_May.csv', '2020_July.csv', '2014_June.csv', '2015_June.csv', '2015_October.csv', '2018_September.csv', '2018_January.csv', '2016_November.csv', '2020_June.csv', '2014_July.csv', '2015_July.csv', '2017_April.csv', '2016_December.csv', '2018_August.csv', '2019_October.csv', '2016_March.csv', '2013_May.csv', '2014_January.csv', '2017_November.csv', '2015_August.csv']\n"
     ]
    }
   ],
   "source": [
    "folder_path = '/Users/antoniotripodi/Desktop/team-algorithm-avengers/Housing Wards Databases'  # Update with your actual folder name\n",
    "\n",
    "# Get a list of all the CSV files in the folder\n",
    "csv_files = [f for f in os.listdir(folder_path) if f.endswith('.csv')]\n",
    "print(csv_files)"
   ]
  },
  {
   "cell_type": "code",
   "execution_count": 161,
   "id": "9615bd4e-b063-405c-bd23-f39a45ec2c38",
   "metadata": {},
   "outputs": [
    {
     "data": {
      "text/html": [
       "<div>\n",
       "<style scoped>\n",
       "    .dataframe tbody tr th:only-of-type {\n",
       "        vertical-align: middle;\n",
       "    }\n",
       "\n",
       "    .dataframe tbody tr th {\n",
       "        vertical-align: top;\n",
       "    }\n",
       "\n",
       "    .dataframe thead th {\n",
       "        text-align: right;\n",
       "    }\n",
       "</style>\n",
       "<table border=\"1\" class=\"dataframe\">\n",
       "  <thead>\n",
       "    <tr style=\"text-align: right;\">\n",
       "      <th></th>\n",
       "      <th>Year</th>\n",
       "      <th>Month</th>\n",
       "      <th>Composite Index</th>\n",
       "      <th>Composite Benchmark</th>\n",
       "      <th>Single-Family Detached Index</th>\n",
       "      <th>Single-Family Detached Benchmark</th>\n",
       "      <th>Single-Family Attached Index</th>\n",
       "      <th>Single-Family Attached Benchmark</th>\n",
       "      <th>Townhouse Index</th>\n",
       "      <th>Townhouse Benchmark</th>\n",
       "      <th>Apartment Index</th>\n",
       "      <th>Apartment Benchmark</th>\n",
       "    </tr>\n",
       "  </thead>\n",
       "  <tbody>\n",
       "  </tbody>\n",
       "</table>\n",
       "</div>"
      ],
      "text/plain": [
       "Empty DataFrame\n",
       "Columns: [Year, Month, Composite Index, Composite Benchmark, Single-Family Detached Index, Single-Family Detached Benchmark, Single-Family Attached Index, Single-Family Attached Benchmark, Townhouse Index, Townhouse Benchmark, Apartment Index, Apartment Benchmark]\n",
       "Index: []"
      ]
     },
     "execution_count": 161,
     "metadata": {},
     "output_type": "execute_result"
    }
   ],
   "source": [
    "import pandas as pd\n",
    "\n",
    "# Define the column names as per your request\n",
    "columns = [\n",
    "    \"Year\", \"Month\", \"Composite Index\", \"Composite Benchmark\",\n",
    "    \"Single-Family Detached Index\", \"Single-Family Detached Benchmark\",\n",
    "    \"Single-Family Attached Index\", \"Single-Family Attached Benchmark\", \n",
    "    \"Townhouse Index\", \"Townhouse Benchmark\",\n",
    "    \"Apartment Index\", \"Apartment Benchmark\"]\n",
    "\n",
    "# Create an empty DataFrame with these columns\n",
    "full_df = pd.DataFrame(columns=columns)\n",
    "\n",
    "# Display the DataFrame\n",
    "full_df.head()"
   ]
  },
  {
   "cell_type": "code",
   "execution_count": null,
   "id": "51b84594-ef7d-4eaa-bfb7-25ca70079c1f",
   "metadata": {},
   "outputs": [],
   "source": []
  }
 ],
 "metadata": {
  "kernelspec": {
   "display_name": "Python 3 (ipykernel)",
   "language": "python",
   "name": "python3"
  },
  "language_info": {
   "codemirror_mode": {
    "name": "ipython",
    "version": 3
   },
   "file_extension": ".py",
   "mimetype": "text/x-python",
   "name": "python",
   "nbconvert_exporter": "python",
   "pygments_lexer": "ipython3",
   "version": "3.12.4"
  }
 },
 "nbformat": 4,
 "nbformat_minor": 5
}
