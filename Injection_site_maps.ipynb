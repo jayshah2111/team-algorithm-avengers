{
 "cells": [
  {
   "cell_type": "code",
   "execution_count": 85,
   "metadata": {},
   "outputs": [],
   "source": [
    "# Import 3rd party libraries\n",
    "import os\n",
    "import json\n",
    "import requests\n",
    "import numpy as np\n",
    "import pandas as pd\n",
    "import seaborn as sns\n",
    "import geopandas as gpd\n",
    "import matplotlib.pyplot as plt\n",
    "\n",
    "# Configure Notebook\n",
    "%matplotlib inline\n",
    "plt.style.use('fivethirtyeight')\n",
    "sns.set_context(\"notebook\")\n",
    "import warnings\n",
    "warnings.filterwarnings('ignore')"
   ]
  },
  {
   "cell_type": "code",
   "execution_count": 86,
   "metadata": {},
   "outputs": [],
   "source": [
    "needle_locations = pd.read_csv('injection_site_locations.csv')\n",
    "injection_locations = pd.read_csv('needle_dropbox_locations.csv')"
   ]
  },
  {
   "cell_type": "code",
   "execution_count": 87,
   "metadata": {},
   "outputs": [
    {
     "name": "stdout",
     "output_type": "stream",
     "text": [
      "                                       Location Name             Address\n",
      "0                                        Fred Victor      139 Jarvis St.\n",
      "1                                      Moss Park CTS  134 Sherbourne St.\n",
      "2        Parkdale Queen West Community Health Centre    168 Bathurst St.\n",
      "3        Parkdale Queen West Community Health Centre   1229 Queen St. W.\n",
      "4  Regent Park Bevel Up CTS Site, Regent Park Com...   465 Dundas St. E.\n",
      "5  South Riverdale Community Health Centre \\nKeepSIX    955 Queen St. E.\n",
      "6                                      Street Health   338 Dundas St. E.\n",
      "7      Kensington Market Overdose Prevention Service         260 Augusta\n",
      "8                    Toronto Public Health The Works    277 Victoria St.\n",
      "9                                        Casey House    119 Isabella St.\n",
      "                                      Location Name                    Address\n",
      "0                                         The Works           277 Victoria St.\n",
      "1                                       Casey House           119 Isabella St.\n",
      "2                                        Dixon Hall         2714 Danforth Ave.\n",
      "3                                    Eva's Satelite        25 Canterbury Place\n",
      "4                                       Fred Victor           145 Queen St. E.\n",
      "5                                     Good Shepherd               10 Tracy St.\n",
      "6                      LAMP Community Health Centre              185 Fifth St.\n",
      "7                                        Margaret's          323 Dundas St. E.\n",
      "8                               Metropolitan Church            56 Queen St. E.\n",
      "9                                   Moss Park Parks         150 Sherbourne St.\n",
      "10                                            Pasan           526 Richmond St.\n",
      "11               Queen West Community Health Centre          150 Tecumseth St.\n",
      "12              Regent Park Community Health Centre          465 Dundas St. E.\n",
      "13                  Sanctuary Ministries of Toronto     25 Charles Street East\n",
      "14                                     Season House             339 George St.\n",
      "15               Sherbourne Community Health Centre         333 Sherbourne St.\n",
      "16          South Riverdale Community Health Centre        Jimmie Simpson Park\n",
      "17          South Riverdale Community Health Centre           955 Queen St. E.\n",
      "18                           St. Michael's Hospital                30 Bond St.\n",
      "19                                    Street Health          338 Dundas St. E.\n",
      "20                           Toronto PWA Foundation         200 Gerrard St. E.\n",
      "21  Unison Health & Community Services (Flemington)          12 Flemington Rd.\n",
      "22    Unison Health & Community Services (Jane St.)              1541 Jane St.\n",
      "23    Unison Health & Community Services (Keel St.)             1651 Keele St.\n",
      "24                     Vibrant Health Care Alliance             2398 Yonge St.\n",
      "25                     Weston King Community Centre            1207 Weston Rd.\n",
      "26               Toronto Public Library - Downsview         2793 Keele Street.\n",
      "27        Toronto Public Library - Maria A. Shchuka  1745 Eglinton Avenue West\n",
      "28               Toronto Public Library - Cedarbrae           545 Markham Road\n",
      "29                Toronto Public Library - Parkdale     1303 Queen Street West\n",
      "30        Toronto Public Library - Danforth/Coxwell       1675 Danforth Avenue\n",
      "31         Toronto Public Library - Gerrard/Ashdale   1432 Gerrard Street East\n",
      "32                   Toronto Public Library - Jones           118 Jones Avenue\n",
      "33                   Toronto Public Library - Locke          3083 Yonge Street\n",
      "34             Toronto Public Library - Main Street            137 Main Street\n",
      "35               Toronto Public Library - Riverdale       370 Broadview Avenue\n",
      "36            Toronto Public Library  - Thorncliffe  48 Thorncliffe Park Drive\n",
      "37        Toronto Public Library - Victoria Village          184 Sloane Avenue\n",
      "38               Toronto Public Library - Fort York    190 Fort York Boulevard\n",
      "39        Toronto Public Library - Lillian H. Smith         239 College Street\n",
      "40       Toronto Public Library - Northern District  40 Orchard View Boulevard\n",
      "41              Toronto Public Library - Parliament    269 Gerrard Street East\n",
      "42               Toronto Public Library - Sanderson        327 Bathurst Street\n"
     ]
    }
   ],
   "source": [
    "print(needle_locations)\n",
    "print(injection_locations)"
   ]
  },
  {
   "cell_type": "code",
   "execution_count": 41,
   "metadata": {},
   "outputs": [
    {
     "name": "stdout",
     "output_type": "stream",
     "text": [
      "Requirement already satisfied: geopy in c:\\users\\angel\\downloads\\new_anaconda_folder\\lib\\site-packages (2.4.1)\n",
      "Requirement already satisfied: geographiclib<3,>=1.52 in c:\\users\\angel\\downloads\\new_anaconda_folder\\lib\\site-packages (from geopy) (2.0)\n"
     ]
    }
   ],
   "source": [
    "!pip install geopy"
   ]
  },
  {
   "cell_type": "code",
   "execution_count": 42,
   "metadata": {},
   "outputs": [
    {
     "name": "stdout",
     "output_type": "stream",
     "text": [
      "Requirement already satisfied: folium in c:\\users\\angel\\downloads\\new_anaconda_folder\\lib\\site-packages (0.18.0)\n",
      "Requirement already satisfied: jinja2>=2.9 in c:\\users\\angel\\downloads\\new_anaconda_folder\\lib\\site-packages (from folium) (2.11.2)\n",
      "Requirement already satisfied: branca>=0.6.0 in c:\\users\\angel\\downloads\\new_anaconda_folder\\lib\\site-packages (from folium) (0.8.0)\n",
      "Requirement already satisfied: xyzservices in c:\\users\\angel\\downloads\\new_anaconda_folder\\lib\\site-packages (from folium) (2024.9.0)\n",
      "Requirement already satisfied: numpy in c:\\users\\angel\\downloads\\new_anaconda_folder\\lib\\site-packages (from folium) (1.24.4)\n",
      "Requirement already satisfied: requests in c:\\users\\angel\\downloads\\new_anaconda_folder\\lib\\site-packages (from folium) (2.24.0)\n",
      "Requirement already satisfied: MarkupSafe>=0.23 in c:\\users\\angel\\downloads\\new_anaconda_folder\\lib\\site-packages (from jinja2>=2.9->folium) (1.1.1)\n",
      "Requirement already satisfied: chardet<4,>=3.0.2 in c:\\users\\angel\\downloads\\new_anaconda_folder\\lib\\site-packages (from requests->folium) (3.0.4)\n",
      "Requirement already satisfied: urllib3!=1.25.0,!=1.25.1,<1.26,>=1.21.1 in c:\\users\\angel\\downloads\\new_anaconda_folder\\lib\\site-packages (from requests->folium) (1.25.11)\n",
      "Requirement already satisfied: idna<3,>=2.5 in c:\\users\\angel\\downloads\\new_anaconda_folder\\lib\\site-packages (from requests->folium) (2.10)\n",
      "Requirement already satisfied: certifi>=2017.4.17 in c:\\users\\angel\\downloads\\new_anaconda_folder\\lib\\site-packages (from requests->folium) (2024.8.30)\n"
     ]
    }
   ],
   "source": [
    "!pip install folium"
   ]
  },
  {
   "cell_type": "code",
   "execution_count": 43,
   "metadata": {},
   "outputs": [],
   "source": [
    "from geopandas.tools import geocode\n",
    "import folium\n",
    "from folium import Marker\n",
    "\n",
    "from geopy.geocoders import Nominatim"
   ]
  },
  {
   "cell_type": "code",
   "execution_count": 84,
   "metadata": {},
   "outputs": [
    {
     "name": "stdout",
     "output_type": "stream",
     "text": [
      "Parkdale Queen West Community Health Centre, 1229, Queen Street West, Little Tibet, Parkdale—High Park, Old Toronto, Toronto, Golden Horseshoe, Ontario, M6K 0B9, Canada\n"
     ]
    }
   ],
   "source": [
    "# importing geopy library and Nominatim class\n",
    "from geopy.geocoders import Nominatim\n",
    "\n",
    "# calling the Nominatim tool and create Nominatim class\n",
    "loc = Nominatim(user_agent=\"Geopy Library\")\n",
    "\n",
    "# entering the location name\n",
    "getLoc = loc.geocode(\"1229 Queen St. W.\")\n",
    "\n",
    "# printing address\n",
    "print(getLoc.address)\n",
    "\n",
    "# printing latitude and longitude\n",
    "# print(\"Latitude = \", getLoc.latitude, \"\\n\")\n",
    "# print(\"Longitude = \", getLoc.longitude)"
   ]
  },
  {
   "cell_type": "code",
   "execution_count": 88,
   "metadata": {},
   "outputs": [],
   "source": [
    "needle_locations['Address'] = needle_locations['Address'] + \" Toronto\"\n",
    "injection_locations['Address'] = injection_locations['Address'] + \" Toronto\""
   ]
  },
  {
   "cell_type": "code",
   "execution_count": null,
   "metadata": {},
   "outputs": [
    {
     "name": "stdout",
     "output_type": "stream",
     "text": [
      "139, Jarvis Street, King East, Toronto Centre, Old Toronto, Toronto, Golden Horseshoe, Ontario, M5C 2H6, Canada\n",
      "134, Lower Sherbourne Street, St. Lawrence, Toronto Centre, Old Toronto, Toronto, Golden Horseshoe, Ontario, M5A 1E6, Canada\n",
      "Parkdale Queen West Community Health Centre, 168, Bathurst Street, King West, Spadina—Fort York, Old Toronto, Toronto, Golden Horseshoe, Ontario, M6J 1E6, Canada\n",
      "Parkdale Queen West Community Health Centre, 1229, Queen Street West, Little Tibet, Parkdale—High Park, Old Toronto, Toronto, Golden Horseshoe, Ontario, M6K 0B9, Canada\n",
      "465, Dundas Street East, Trefann Court, Toronto Centre, Old Toronto, Toronto, Golden Horseshoe, Ontario, M5A 2Z6, Canada\n",
      "955, Queen Street East, Studio District, Toronto—Danforth, Old Toronto, Toronto, Golden Horseshoe, Ontario, M4M 3P3, Canada\n",
      "338, Dundas Street East, Moss Park, Toronto Centre, Old Toronto, Toronto, Golden Horseshoe, Ontario, M5A 2A6, Canada\n",
      "Bike Share Toronto, Augusta Avenue, Kensington Market, University—Rosedale, Old Toronto, Toronto, Golden Horseshoe, Ontario, M5T 2L5, Canada\n",
      "277, Victoria Street, Downtown Yonge, Toronto Centre, Old Toronto, Toronto, Golden Horseshoe, Ontario, M5B 2G9, Canada\n",
      "Isabella Street, Church-Wellesley Village, Toronto Centre, Old Toronto, Toronto, Golden Horseshoe, Ontario, M4Y 1N1, Canada\n",
      "139, Jarvis Street, King East, Toronto Centre, Old Toronto, Toronto, Golden Horseshoe, Ontario, M5C 2H6, Canada\n",
      "134, Lower Sherbourne Street, St. Lawrence, Toronto Centre, Old Toronto, Toronto, Golden Horseshoe, Ontario, M5A 1E6, Canada\n",
      "Parkdale Queen West Community Health Centre, 168, Bathurst Street, King West, Spadina—Fort York, Old Toronto, Toronto, Golden Horseshoe, Ontario, M6J 1E6, Canada\n",
      "Parkdale Queen West Community Health Centre, 1229, Queen Street West, Little Tibet, Parkdale—High Park, Old Toronto, Toronto, Golden Horseshoe, Ontario, M6K 0B9, Canada\n",
      "465, Dundas Street East, Trefann Court, Toronto Centre, Old Toronto, Toronto, Golden Horseshoe, Ontario, M5A 2Z6, Canada\n",
      "955, Queen Street East, Studio District, Toronto—Danforth, Old Toronto, Toronto, Golden Horseshoe, Ontario, M4M 3P3, Canada\n",
      "338, Dundas Street East, Moss Park, Toronto Centre, Old Toronto, Toronto, Golden Horseshoe, Ontario, M5A 2A6, Canada\n",
      "Bike Share Toronto, Augusta Avenue, Kensington Market, University—Rosedale, Old Toronto, Toronto, Golden Horseshoe, Ontario, M5T 2L5, Canada\n",
      "277, Victoria Street, Downtown Yonge, Toronto Centre, Old Toronto, Toronto, Golden Horseshoe, Ontario, M5B 2G9, Canada\n",
      "Isabella Street, Church-Wellesley Village, Toronto Centre, Old Toronto, Toronto, Golden Horseshoe, Ontario, M4Y 1N1, Canada\n"
     ]
    }
   ],
   "source": [
    "# importing geopy library and Nominatim class\n",
    "from geopy.geocoders import Nominatim\n",
    "\n",
    "# calling the Nominatim tool and create Nominatim class\n",
    "loc = Nominatim(user_agent=\"Geopy Library\")\n",
    "\n",
    "def address_to_lat(address):\n",
    "    # Increase timeout due to slow running\n",
    "    getLoc = loc.geocode(address, timeout=10)\n",
    "\n",
    "    return getLoc.latitude\n",
    "\n",
    "def address_to_lon(address):\n",
    "\n",
    "    getLoc = loc.geocode(address, timeout=10)\n",
    "\n",
    "    return getLoc.longitude\n",
    "\n",
    "needle_locations['Latitude']=needle_locations['Address'].apply(lambda x: address_to_lat(x))\n",
    "needle_locations['Longitude']=needle_locations['Address'].apply(lambda x: address_to_lon(x))\n",
    "\n",
    "# injection_locations['Latitude']=injection_locations['Address'].apply(lambda x: address_to_lat(x))\n",
    "# injection_locations['Longitude']=injection_locations['Address'].apply(lambda x: address_to_lon(x))\n"
   ]
  },
  {
   "cell_type": "code",
   "execution_count": 90,
   "metadata": {},
   "outputs": [
    {
     "data": {
      "text/html": [
       "<div>\n",
       "<style scoped>\n",
       "    .dataframe tbody tr th:only-of-type {\n",
       "        vertical-align: middle;\n",
       "    }\n",
       "\n",
       "    .dataframe tbody tr th {\n",
       "        vertical-align: top;\n",
       "    }\n",
       "\n",
       "    .dataframe thead th {\n",
       "        text-align: right;\n",
       "    }\n",
       "</style>\n",
       "<table border=\"1\" class=\"dataframe\">\n",
       "  <thead>\n",
       "    <tr style=\"text-align: right;\">\n",
       "      <th></th>\n",
       "      <th>Location Name</th>\n",
       "      <th>Address</th>\n",
       "      <th>Latitude</th>\n",
       "      <th>Longitude</th>\n",
       "    </tr>\n",
       "  </thead>\n",
       "  <tbody>\n",
       "    <tr>\n",
       "      <th>0</th>\n",
       "      <td>Fred Victor</td>\n",
       "      <td>139 Jarvis St. Toronto</td>\n",
       "      <td>43.653638</td>\n",
       "      <td>-79.373080</td>\n",
       "    </tr>\n",
       "    <tr>\n",
       "      <th>1</th>\n",
       "      <td>Moss Park CTS</td>\n",
       "      <td>134 Sherbourne St. Toronto</td>\n",
       "      <td>43.650110</td>\n",
       "      <td>-79.367883</td>\n",
       "    </tr>\n",
       "    <tr>\n",
       "      <th>2</th>\n",
       "      <td>Parkdale Queen West Community Health Centre</td>\n",
       "      <td>168 Bathurst St. Toronto</td>\n",
       "      <td>43.646596</td>\n",
       "      <td>-79.404186</td>\n",
       "    </tr>\n",
       "    <tr>\n",
       "      <th>3</th>\n",
       "      <td>Parkdale Queen West Community Health Centre</td>\n",
       "      <td>1229 Queen St. W. Toronto</td>\n",
       "      <td>43.641821</td>\n",
       "      <td>-79.429519</td>\n",
       "    </tr>\n",
       "    <tr>\n",
       "      <th>4</th>\n",
       "      <td>Regent Park Bevel Up CTS Site, Regent Park Com...</td>\n",
       "      <td>465 Dundas St. E. Toronto</td>\n",
       "      <td>43.659435</td>\n",
       "      <td>-79.365355</td>\n",
       "    </tr>\n",
       "  </tbody>\n",
       "</table>\n",
       "</div>"
      ],
      "text/plain": [
       "                                       Location Name  \\\n",
       "0                                        Fred Victor   \n",
       "1                                      Moss Park CTS   \n",
       "2        Parkdale Queen West Community Health Centre   \n",
       "3        Parkdale Queen West Community Health Centre   \n",
       "4  Regent Park Bevel Up CTS Site, Regent Park Com...   \n",
       "\n",
       "                      Address   Latitude  Longitude  \n",
       "0      139 Jarvis St. Toronto  43.653638 -79.373080  \n",
       "1  134 Sherbourne St. Toronto  43.650110 -79.367883  \n",
       "2    168 Bathurst St. Toronto  43.646596 -79.404186  \n",
       "3   1229 Queen St. W. Toronto  43.641821 -79.429519  \n",
       "4   465 Dundas St. E. Toronto  43.659435 -79.365355  "
      ]
     },
     "execution_count": 90,
     "metadata": {},
     "output_type": "execute_result"
    }
   ],
   "source": [
    "needle_locations.head()"
   ]
  },
  {
   "cell_type": "code",
   "execution_count": null,
   "metadata": {},
   "outputs": [],
   "source": []
  },
  {
   "cell_type": "code",
   "execution_count": null,
   "metadata": {},
   "outputs": [
    {
     "data": {
      "text/html": [
       "<div style=\"width:100%;\"><div style=\"position:relative;width:100%;height:0;padding-bottom:60%;\"><span style=\"color:#565656\">Make this Notebook Trusted to load map: File -> Trust Notebook</span><iframe srcdoc=\"&lt;!DOCTYPE html&gt;\n",
       "&lt;html&gt;\n",
       "&lt;head&gt;\n",
       "    \n",
       "    &lt;meta http-equiv=&quot;content-type&quot; content=&quot;text/html; charset=UTF-8&quot; /&gt;\n",
       "    \n",
       "        &lt;script&gt;\n",
       "            L_NO_TOUCH = false;\n",
       "            L_DISABLE_3D = false;\n",
       "        &lt;/script&gt;\n",
       "    \n",
       "    &lt;style&gt;html, body {width: 100%;height: 100%;margin: 0;padding: 0;}&lt;/style&gt;\n",
       "    &lt;style&gt;#map {position:absolute;top:0;bottom:0;right:0;left:0;}&lt;/style&gt;\n",
       "    &lt;script src=&quot;https://cdn.jsdelivr.net/npm/leaflet@1.9.3/dist/leaflet.js&quot;&gt;&lt;/script&gt;\n",
       "    &lt;script src=&quot;https://code.jquery.com/jquery-3.7.1.min.js&quot;&gt;&lt;/script&gt;\n",
       "    &lt;script src=&quot;https://cdn.jsdelivr.net/npm/bootstrap@5.2.2/dist/js/bootstrap.bundle.min.js&quot;&gt;&lt;/script&gt;\n",
       "    &lt;script src=&quot;https://cdnjs.cloudflare.com/ajax/libs/Leaflet.awesome-markers/2.0.2/leaflet.awesome-markers.js&quot;&gt;&lt;/script&gt;\n",
       "    &lt;link rel=&quot;stylesheet&quot; href=&quot;https://cdn.jsdelivr.net/npm/leaflet@1.9.3/dist/leaflet.css&quot;/&gt;\n",
       "    &lt;link rel=&quot;stylesheet&quot; href=&quot;https://cdn.jsdelivr.net/npm/bootstrap@5.2.2/dist/css/bootstrap.min.css&quot;/&gt;\n",
       "    &lt;link rel=&quot;stylesheet&quot; href=&quot;https://netdna.bootstrapcdn.com/bootstrap/3.0.0/css/bootstrap-glyphicons.css&quot;/&gt;\n",
       "    &lt;link rel=&quot;stylesheet&quot; href=&quot;https://cdn.jsdelivr.net/npm/@fortawesome/fontawesome-free@6.2.0/css/all.min.css&quot;/&gt;\n",
       "    &lt;link rel=&quot;stylesheet&quot; href=&quot;https://cdnjs.cloudflare.com/ajax/libs/Leaflet.awesome-markers/2.0.2/leaflet.awesome-markers.css&quot;/&gt;\n",
       "    &lt;link rel=&quot;stylesheet&quot; href=&quot;https://cdn.jsdelivr.net/gh/python-visualization/folium/folium/templates/leaflet.awesome.rotate.min.css&quot;/&gt;\n",
       "    \n",
       "            &lt;meta name=&quot;viewport&quot; content=&quot;width=device-width,\n",
       "                initial-scale=1.0, maximum-scale=1.0, user-scalable=no&quot; /&gt;\n",
       "            &lt;style&gt;\n",
       "                #map_597b9113ccb34ff1d88c2e5ec511143d {\n",
       "                    position: relative;\n",
       "                    width: 100.0%;\n",
       "                    height: 100.0%;\n",
       "                    left: 0.0%;\n",
       "                    top: 0.0%;\n",
       "                }\n",
       "                .leaflet-container { font-size: 1rem; }\n",
       "            &lt;/style&gt;\n",
       "        \n",
       "&lt;/head&gt;\n",
       "&lt;body&gt;\n",
       "    \n",
       "    \n",
       "            &lt;div class=&quot;folium-map&quot; id=&quot;map_597b9113ccb34ff1d88c2e5ec511143d&quot; &gt;&lt;/div&gt;\n",
       "        \n",
       "&lt;/body&gt;\n",
       "&lt;script&gt;\n",
       "    \n",
       "    \n",
       "            var map_597b9113ccb34ff1d88c2e5ec511143d = L.map(\n",
       "                &quot;map_597b9113ccb34ff1d88c2e5ec511143d&quot;,\n",
       "                {\n",
       "                    center: [43.6426, -79.3871],\n",
       "                    crs: L.CRS.EPSG3857,\n",
       "                    zoom: 10,\n",
       "                    zoomControl: true,\n",
       "                    preferCanvas: false,\n",
       "                }\n",
       "            );\n",
       "\n",
       "            \n",
       "\n",
       "        \n",
       "    \n",
       "            var tile_layer_0bb6390df2c9e6a58cca10279b3c6da9 = L.tileLayer(\n",
       "                &quot;https://{s}.basemaps.cartocdn.com/light_all/{z}/{x}/{y}{r}.png&quot;,\n",
       "                {&quot;attribution&quot;: &quot;\\u0026copy; \\u003ca href=\\&quot;https://www.openstreetmap.org/copyright\\&quot;\\u003eOpenStreetMap\\u003c/a\\u003e contributors \\u0026copy; \\u003ca href=\\&quot;https://carto.com/attributions\\&quot;\\u003eCARTO\\u003c/a\\u003e&quot;, &quot;detectRetina&quot;: false, &quot;maxNativeZoom&quot;: 20, &quot;maxZoom&quot;: 20, &quot;minZoom&quot;: 0, &quot;noWrap&quot;: false, &quot;opacity&quot;: 1, &quot;subdomains&quot;: &quot;abcd&quot;, &quot;tms&quot;: false}\n",
       "            );\n",
       "        \n",
       "    \n",
       "            tile_layer_0bb6390df2c9e6a58cca10279b3c6da9.addTo(map_597b9113ccb34ff1d88c2e5ec511143d);\n",
       "        \n",
       "    \n",
       "            var marker_2cbb168b793de45101e36c9222e5e4d7 = L.marker(\n",
       "                [50.6727622, 29.5536048],\n",
       "                {}\n",
       "            ).addTo(map_597b9113ccb34ff1d88c2e5ec511143d);\n",
       "        \n",
       "&lt;/script&gt;\n",
       "&lt;/html&gt;\" style=\"position:absolute;width:100%;height:100%;left:0;top:0;border:none !important;\" allowfullscreen webkitallowfullscreen mozallowfullscreen></iframe></div></div>"
      ],
      "text/plain": [
       "<folium.folium.Map at 0x1b5f92dd4c0>"
      ]
     },
     "execution_count": 18,
     "metadata": {},
     "output_type": "execute_result"
    }
   ],
   "source": [
    "# Create a map of Toronto\n",
    "map = folium.Map(location=[43.6426, -79.3871], \n",
    "                   tiles='cartodbpositron', \n",
    "                   zoom_start=10)\n",
    "locations = geocode(['139 Jarvis St'])\n",
    "# Add points to the map\n",
    "for idx, row in locations.to_crs(epsg=4326).iterrows():\n",
    "    Marker([row.geometry.y, row.geometry.x]).add_to(map)\n",
    "\n",
    "map"
   ]
  },
  {
   "cell_type": "code",
   "execution_count": null,
   "metadata": {},
   "outputs": [],
   "source": []
  }
 ],
 "metadata": {
  "kernelspec": {
   "display_name": "base",
   "language": "python",
   "name": "python3"
  },
  "language_info": {
   "codemirror_mode": {
    "name": "ipython",
    "version": 3
   },
   "file_extension": ".py",
   "mimetype": "text/x-python",
   "name": "python",
   "nbconvert_exporter": "python",
   "pygments_lexer": "ipython3",
   "version": "3.8.3"
  }
 },
 "nbformat": 4,
 "nbformat_minor": 2
}
