{
 "cells": [
  {
   "cell_type": "markdown",
   "metadata": {},
   "source": [
    "# Web Parsing for City of Toronto Supervised Injection Sites and Needle Drop Boxes"
   ]
  },
  {
   "cell_type": "code",
   "execution_count": null,
   "metadata": {},
   "outputs": [],
   "source": [
    "# Install the utils package\n",
    "!pip install utils"
   ]
  },
  {
   "cell_type": "markdown",
   "metadata": {},
   "source": [
    "Import Required Packages"
   ]
  },
  {
   "cell_type": "code",
   "execution_count": 106,
   "metadata": {},
   "outputs": [],
   "source": [
    "# Import 3rd party libraries\n",
    "import os\n",
    "import requests\n",
    "import pandas as pd\n",
    "from bs4 import BeautifulSoup\n",
    "import matplotlib.pylab as plt\n",
    "\n",
    "# Import local libraries\n",
    "import utils\n",
    "\n",
    "# Configure Notebook\n",
    "import warnings\n",
    "warnings.filterwarnings('ignore')\n",
    "%config Completer.use_jedi = False"
   ]
  },
  {
   "cell_type": "markdown",
   "metadata": {},
   "source": [
    "### Web parsing supervised injection sites\n",
    "\n",
    "Get the HTML for the website url"
   ]
  },
  {
   "cell_type": "code",
   "execution_count": 107,
   "metadata": {},
   "outputs": [
    {
     "data": {
      "text/plain": [
       "<Response [200]>"
      ]
     },
     "execution_count": 107,
     "metadata": {},
     "output_type": "execute_result"
    }
   ],
   "source": [
    "url = \"https://www.toronto.ca/community-people/health-wellness-care/health-programs-advice/supervised-injection-services/\"\n",
    "response = requests.get(url)\n",
    "response"
   ]
  },
  {
   "cell_type": "markdown",
   "metadata": {},
   "source": [
    "Parse the HTML object"
   ]
  },
  {
   "cell_type": "code",
   "execution_count": 108,
   "metadata": {},
   "outputs": [],
   "source": [
    "soup = BeautifulSoup(response.text, 'html.parser')"
   ]
  },
  {
   "cell_type": "markdown",
   "metadata": {},
   "source": [
    "View the HTML entries in the table"
   ]
  },
  {
   "cell_type": "code",
   "execution_count": 109,
   "metadata": {},
   "outputs": [
    {
     "name": "stdout",
     "output_type": "stream",
     "text": [
      "[<td><strong>Fred Victor*</strong><br/>\n",
      "139 Jarvis St.<br/>\n",
      "(Queen Street East/Jarvis Street)<br/>\n",
      "Phone: 416-644-3081</td>, <td>Monday, 8 a.m. to 10 p.m. <em>last call </em><br/>\n",
      "Tuesday to Sunday, 7:30 a.m. to 7 p.m. <em>last call </em><em> </em></td>]\n"
     ]
    }
   ],
   "source": [
    "table = soup.find_all('td')\n",
    "print(table[0:2])"
   ]
  },
  {
   "cell_type": "markdown",
   "metadata": {},
   "source": [
    "View one cell."
   ]
  },
  {
   "cell_type": "code",
   "execution_count": 110,
   "metadata": {},
   "outputs": [
    {
     "name": "stdout",
     "output_type": "stream",
     "text": [
      "Fred Victor* \n",
      "139 Jarvis St. \n",
      "(Queen Street East/Jarvis Street) \n",
      "Phone: 416-644-3081\n"
     ]
    }
   ],
   "source": [
    "print(table[0].get_text(separator = \" \").strip())"
   ]
  },
  {
   "cell_type": "markdown",
   "metadata": {},
   "source": [
    "### Parse the strings\n",
    "\n",
    "We want to parse and extract the second line from each cell for the addresses and clean the location names from location_names."
   ]
  },
  {
   "cell_type": "code",
   "execution_count": 111,
   "metadata": {},
   "outputs": [
    {
     "data": {
      "text/html": [
       "<div>\n",
       "<style scoped>\n",
       "    .dataframe tbody tr th:only-of-type {\n",
       "        vertical-align: middle;\n",
       "    }\n",
       "\n",
       "    .dataframe tbody tr th {\n",
       "        vertical-align: top;\n",
       "    }\n",
       "\n",
       "    .dataframe thead th {\n",
       "        text-align: right;\n",
       "    }\n",
       "</style>\n",
       "<table border=\"1\" class=\"dataframe\">\n",
       "  <thead>\n",
       "    <tr style=\"text-align: right;\">\n",
       "      <th></th>\n",
       "      <th>Location Name</th>\n",
       "      <th>Address</th>\n",
       "    </tr>\n",
       "  </thead>\n",
       "  <tbody>\n",
       "    <tr>\n",
       "      <th>0</th>\n",
       "      <td>Fred Victor</td>\n",
       "      <td>139 Jarvis St.</td>\n",
       "    </tr>\n",
       "    <tr>\n",
       "      <th>1</th>\n",
       "      <td>Moss Park CTS</td>\n",
       "      <td>134 Sherbourne St.</td>\n",
       "    </tr>\n",
       "    <tr>\n",
       "      <th>2</th>\n",
       "      <td>Parkdale Queen West Community Health Centre</td>\n",
       "      <td>168 Bathurst St.</td>\n",
       "    </tr>\n",
       "    <tr>\n",
       "      <th>3</th>\n",
       "      <td>Parkdale Queen West Community Health Centre</td>\n",
       "      <td>1229 Queen St. W.</td>\n",
       "    </tr>\n",
       "    <tr>\n",
       "      <th>4</th>\n",
       "      <td>Regent Park Bevel Up CTS Site, Regent Park Com...</td>\n",
       "      <td>465 Dundas St. E.</td>\n",
       "    </tr>\n",
       "  </tbody>\n",
       "</table>\n",
       "</div>"
      ],
      "text/plain": [
       "                                       Location Name             Address\n",
       "0                                        Fred Victor      139 Jarvis St.\n",
       "1                                      Moss Park CTS  134 Sherbourne St.\n",
       "2        Parkdale Queen West Community Health Centre    168 Bathurst St.\n",
       "3        Parkdale Queen West Community Health Centre   1229 Queen St. W.\n",
       "4  Regent Park Bevel Up CTS Site, Regent Park Com...   465 Dundas St. E."
      ]
     },
     "execution_count": 111,
     "metadata": {},
     "output_type": "execute_result"
    }
   ],
   "source": [
    "# return the human-readable text from each row and concatenate with a space, then split at the spaces.\n",
    "text_cell = [cell.get_text(separator = \" \").strip() for cell in table]\n",
    "\n",
    "# Extract the cells from the first column, which contain the name and location information.\n",
    "location_info_cell = [text_cell[index].split((\"\\n\")) for index in range(0,len(text_cell),2)]\n",
    "\n",
    "# Extract the 2nd (address) and 3rd (intersection) from each cell in text_cell becuase two of the cells have address in the 3rd line\n",
    "address_list = [strng[1] + strng[2] for strng in location_info_cell]\n",
    "\n",
    "# Clean the data by removing noise (\"The Works\", \"KeepSIX*\" from the second lines)\n",
    "address_list_cleaned = [entry.split(\"(\")[0].strip(\"The Works\").strip(\"KeepSIX*\").split(\"(\")[0].strip() for entry in address_list]\n",
    "\n",
    "# Extract the names from the location_names list\n",
    "# final_loc_names = [cell.get_text(separator = \" \").strip().strip('*') for cell in location_names]\n",
    "final_loc_names = [name[0].strip().strip(\"*\").strip() for name in location_info_cell]\n",
    "\n",
    "# Create the DataFrame\n",
    "injection_site_locations_df = pd.DataFrame({\n",
    "    \"Location Name\": final_loc_names,\n",
    "    \"Address\": address_list_cleaned\n",
    "})\n",
    "\n",
    "# View DataFrame\n",
    "injection_site_locations_df.head()"
   ]
  },
  {
   "cell_type": "markdown",
   "metadata": {},
   "source": [
    "# Part 2: Web Parsing for Needle Drop Box Locations\n",
    "\n",
    "Using the same method from above"
   ]
  },
  {
   "cell_type": "code",
   "execution_count": 112,
   "metadata": {},
   "outputs": [],
   "source": [
    "# Extract the HTML from the url and parse using BeautifulSoup\n",
    "url = \"https://www.toronto.ca/community-people/health-wellness-care/health-programs-advice/harm-reduction-supplies-and-locations/needle-drop-box-locations-in-toronto/\"\n",
    "response = requests.get(url)\n",
    "soup = BeautifulSoup(response.text, 'html.parser')"
   ]
  },
  {
   "cell_type": "code",
   "execution_count": 113,
   "metadata": {},
   "outputs": [
    {
     "name": "stdout",
     "output_type": "stream",
     "text": [
      "[<td>The Works</td>, <td><p>277 Victoria St.</p>\n",
      "<p>Victoria St. &amp; Dundas St. E.</p>\n",
      "</td>]\n"
     ]
    }
   ],
   "source": [
    "# Extract the data from the table\n",
    "table_data = soup.find_all('td')\n",
    "print(table_data[0:2])"
   ]
  },
  {
   "cell_type": "markdown",
   "metadata": {},
   "source": [
    "View the properties of the HTML"
   ]
  },
  {
   "cell_type": "code",
   "execution_count": 114,
   "metadata": {},
   "outputs": [
    {
     "name": "stdout",
     "output_type": "stream",
     "text": [
      "86\n"
     ]
    }
   ],
   "source": [
    "# Check the number of entries\n",
    "print(len(table_data))"
   ]
  },
  {
   "cell_type": "code",
   "execution_count": 115,
   "metadata": {},
   "outputs": [
    {
     "name": "stdout",
     "output_type": "stream",
     "text": [
      "<td>The Works</td>\n",
      "\n",
      "<td><p>277 Victoria St.</p>\n",
      "<p>Victoria St. &amp; Dundas St. E.</p>\n",
      "</td>\n",
      "\n",
      "<td>Casey House</td>\n",
      "\n"
     ]
    }
   ],
   "source": [
    "# View what each entry in table_data is\n",
    "for cell in table_data[0:3]:\n",
    "    print(cell)\n",
    "    print()"
   ]
  },
  {
   "cell_type": "markdown",
   "metadata": {},
   "source": [
    "Each entry is a single cell, the table is 86 rows by 2 columns so it alternates between the Title (location name) column and Description (address) column."
   ]
  },
  {
   "cell_type": "markdown",
   "metadata": {},
   "source": [
    "### Parse the strings\n",
    "\n",
    "We want to parse and extract every other entry in table_data starting from index 0 for location name, and 1 for address."
   ]
  },
  {
   "cell_type": "code",
   "execution_count": 116,
   "metadata": {},
   "outputs": [
    {
     "data": {
      "text/html": [
       "<div>\n",
       "<style scoped>\n",
       "    .dataframe tbody tr th:only-of-type {\n",
       "        vertical-align: middle;\n",
       "    }\n",
       "\n",
       "    .dataframe tbody tr th {\n",
       "        vertical-align: top;\n",
       "    }\n",
       "\n",
       "    .dataframe thead th {\n",
       "        text-align: right;\n",
       "    }\n",
       "</style>\n",
       "<table border=\"1\" class=\"dataframe\">\n",
       "  <thead>\n",
       "    <tr style=\"text-align: right;\">\n",
       "      <th></th>\n",
       "      <th>Location Name</th>\n",
       "      <th>Address</th>\n",
       "    </tr>\n",
       "  </thead>\n",
       "  <tbody>\n",
       "    <tr>\n",
       "      <th>0</th>\n",
       "      <td>The Works</td>\n",
       "      <td>277 Victoria St.</td>\n",
       "    </tr>\n",
       "    <tr>\n",
       "      <th>1</th>\n",
       "      <td>Casey House</td>\n",
       "      <td>119 Isabella St.</td>\n",
       "    </tr>\n",
       "    <tr>\n",
       "      <th>2</th>\n",
       "      <td>Dixon Hall</td>\n",
       "      <td>2714 Danforth Ave.</td>\n",
       "    </tr>\n",
       "    <tr>\n",
       "      <th>3</th>\n",
       "      <td>Eva's Satelite</td>\n",
       "      <td>25 Canterbury Place</td>\n",
       "    </tr>\n",
       "    <tr>\n",
       "      <th>4</th>\n",
       "      <td>Fred Victor</td>\n",
       "      <td>145 Queen St. E.</td>\n",
       "    </tr>\n",
       "  </tbody>\n",
       "</table>\n",
       "</div>"
      ],
      "text/plain": [
       "    Location Name              Address\n",
       "0       The Works     277 Victoria St.\n",
       "1     Casey House     119 Isabella St.\n",
       "2      Dixon Hall   2714 Danforth Ave.\n",
       "3  Eva's Satelite  25 Canterbury Place\n",
       "4     Fred Victor     145 Queen St. E."
      ]
     },
     "execution_count": 116,
     "metadata": {},
     "output_type": "execute_result"
    }
   ],
   "source": [
    "# Convert to human readable text\n",
    "text_cell = [cell.get_text(separator = \" \").strip().split(\"\\n\") for cell in table_data]\n",
    "\n",
    "# Extract every other entry in text_cell beginning from 0th index\n",
    "location_name = [text_cell[index][0] for index in range(0, len(text_cell), 2)]\n",
    "\n",
    "# Extract all other entries, indexing from the 1st index\n",
    "address = [text_cell[index][0].replace(\"\\xa0\", \" \").strip() for index in range(1, len(text_cell), 2)]\n",
    "\n",
    "# Create the DataFrame\n",
    "needle_dropbox_df = pd.DataFrame({\n",
    "    \"Location Name\": location_name,\n",
    "    \"Address\": address\n",
    "})\n",
    "\n",
    "# View DataFrame\n",
    "needle_dropbox_df.head()"
   ]
  },
  {
   "cell_type": "markdown",
   "metadata": {},
   "source": [
    "Save the DataFrames as csvs."
   ]
  },
  {
   "cell_type": "code",
   "execution_count": 117,
   "metadata": {},
   "outputs": [],
   "source": [
    "# Save DataFrames as csvs\n",
    "injection_site_locations_df.to_csv(\"injection_site_locations.csv\", index=False)\n",
    "needle_dropbox_df.to_csv(\"needle_dropbox_locations.csv\", index = False)"
   ]
  },
  {
   "cell_type": "code",
   "execution_count": null,
   "metadata": {},
   "outputs": [],
   "source": []
  }
 ],
 "metadata": {
  "kernelspec": {
   "display_name": "base",
   "language": "python",
   "name": "python3"
  },
  "language_info": {
   "codemirror_mode": {
    "name": "ipython",
    "version": 3
   },
   "file_extension": ".py",
   "mimetype": "text/x-python",
   "name": "python",
   "nbconvert_exporter": "python",
   "pygments_lexer": "ipython3",
   "version": "3.8.3"
  }
 },
 "nbformat": 4,
 "nbformat_minor": 2
}
