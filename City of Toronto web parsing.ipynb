{
 "cells": [
  {
   "cell_type": "markdown",
   "metadata": {},
   "source": [
    "# Web Parsing for City of Toronto Supervised Injection Sites and Needle Drop Boxes"
   ]
  },
  {
   "cell_type": "code",
   "execution_count": 12,
   "metadata": {},
   "outputs": [
    {
     "name": "stdout",
     "output_type": "stream",
     "text": [
      "Requirement already satisfied: utils in c:\\users\\angel\\downloads\\new_anaconda_folder\\lib\\site-packages (1.0.2)\n"
     ]
    }
   ],
   "source": [
    "# Install the utils package\n",
    "!pip install utils"
   ]
  },
  {
   "cell_type": "markdown",
   "metadata": {},
   "source": [
    "Import Required Packages"
   ]
  },
  {
   "cell_type": "code",
   "execution_count": 13,
   "metadata": {},
   "outputs": [],
   "source": [
    "# Import 3rd party libraries\n",
    "import os\n",
    "import requests\n",
    "import pandas as pd\n",
    "from bs4 import BeautifulSoup\n",
    "import matplotlib.pylab as plt\n",
    "\n",
    "# Import local libraries\n",
    "import utils\n",
    "\n",
    "# Configure Notebook\n",
    "import warnings\n",
    "warnings.filterwarnings('ignore')\n",
    "%config Completer.use_jedi = False"
   ]
  },
  {
   "cell_type": "markdown",
   "metadata": {},
   "source": [
    "### Web parsing supervised injection sites\n",
    "\n",
    "Get the HTML for the website url"
   ]
  },
  {
   "cell_type": "code",
   "execution_count": 14,
   "metadata": {},
   "outputs": [],
   "source": [
    "url = \"https://www.toronto.ca/community-people/health-wellness-care/health-programs-advice/supervised-injection-services/\"\n",
    "response = requests.get(url)"
   ]
  },
  {
   "cell_type": "markdown",
   "metadata": {},
   "source": [
    "Parse the HTML object"
   ]
  },
  {
   "cell_type": "code",
   "execution_count": 15,
   "metadata": {},
   "outputs": [],
   "source": [
    "soup = BeautifulSoup(response.text, 'html.parser')"
   ]
  },
  {
   "cell_type": "markdown",
   "metadata": {},
   "source": [
    "View the HTML entries in the table"
   ]
  },
  {
   "cell_type": "code",
   "execution_count": 16,
   "metadata": {},
   "outputs": [],
   "source": [
    "table = soup.find('tbody')\n",
    "# print(table)"
   ]
  },
  {
   "cell_type": "markdown",
   "metadata": {},
   "source": [
    "Extract the table data which contains the name and address. Also extract the location names."
   ]
  },
  {
   "cell_type": "code",
   "execution_count": 17,
   "metadata": {},
   "outputs": [],
   "source": [
    "location_cells = table.find_all('td')\n",
    "location_names =  table.find_all('strong')"
   ]
  },
  {
   "cell_type": "code",
   "execution_count": 18,
   "metadata": {},
   "outputs": [
    {
     "name": "stdout",
     "output_type": "stream",
     "text": [
      "<td><strong>Fred Victor*</strong><br/>\n",
      "139 Jarvis St.<br/>\n",
      "(Queen Street East/Jarvis Street)<br/>\n",
      "Phone: 416-644-3081</td>\n",
      "\n",
      "<td>Monday, 8 a.m. to 10 p.m. <em>last call </em><br/>\n",
      "Tuesday to Sunday, 7:30 a.m. to 7 p.m. <em>last call </em><em> </em></td>\n",
      "\n",
      "<td><strong>Moss Park CTS*</strong><br/>\n",
      "134 Sherbourne St.<br/>\n",
      "(Queen Street East/Sherbourne Street)<br/>\n",
      "Phone: 416-546-3984<br/>\n",
      "<em>Note: Last call is at staff discretion<br/>\n",
      "</em></td>\n",
      "\n"
     ]
    }
   ],
   "source": [
    "for cell in location_cells[0:3]:\n",
    "    print(cell)\n",
    "    print()"
   ]
  },
  {
   "cell_type": "code",
   "execution_count": 19,
   "metadata": {},
   "outputs": [
    {
     "name": "stdout",
     "output_type": "stream",
     "text": [
      "<strong>Fred Victor*</strong>\n",
      "\n",
      "<strong>Moss Park CTS*</strong>\n",
      "\n",
      "<strong>Parkdale Queen West Community Health Centre*</strong>\n",
      "\n"
     ]
    }
   ],
   "source": [
    "for cell in location_names[0:3]:\n",
    "    print(cell)\n",
    "    print()"
   ]
  },
  {
   "cell_type": "markdown",
   "metadata": {},
   "source": [
    "View one cell"
   ]
  },
  {
   "cell_type": "code",
   "execution_count": 20,
   "metadata": {},
   "outputs": [
    {
     "name": "stdout",
     "output_type": "stream",
     "text": [
      "Fred Victor* \n",
      "139 Jarvis St. \n",
      "(Queen Street East/Jarvis Street) \n",
      "Phone: 416-644-3081\n",
      "Fred Victor*\n"
     ]
    }
   ],
   "source": [
    "print(location_cells[0].get_text(separator = \" \").strip())\n",
    "print(location_names[0].get_text(separator = \" \").strip())"
   ]
  },
  {
   "cell_type": "markdown",
   "metadata": {},
   "source": [
    "### Parse the strings\n",
    "\n",
    "We want to parse and extract the second line from each cell for the addresses and clean the location names from location_names."
   ]
  },
  {
   "cell_type": "code",
   "execution_count": 22,
   "metadata": {},
   "outputs": [
    {
     "data": {
      "text/html": [
       "<div>\n",
       "<style scoped>\n",
       "    .dataframe tbody tr th:only-of-type {\n",
       "        vertical-align: middle;\n",
       "    }\n",
       "\n",
       "    .dataframe tbody tr th {\n",
       "        vertical-align: top;\n",
       "    }\n",
       "\n",
       "    .dataframe thead th {\n",
       "        text-align: right;\n",
       "    }\n",
       "</style>\n",
       "<table border=\"1\" class=\"dataframe\">\n",
       "  <thead>\n",
       "    <tr style=\"text-align: right;\">\n",
       "      <th></th>\n",
       "      <th>Location Name</th>\n",
       "      <th>Address</th>\n",
       "    </tr>\n",
       "  </thead>\n",
       "  <tbody>\n",
       "    <tr>\n",
       "      <th>0</th>\n",
       "      <td>Fred Victor</td>\n",
       "      <td>139 Jarvis St</td>\n",
       "    </tr>\n",
       "    <tr>\n",
       "      <th>1</th>\n",
       "      <td>Moss Park CTS</td>\n",
       "      <td>134 Sherbourne St</td>\n",
       "    </tr>\n",
       "    <tr>\n",
       "      <th>2</th>\n",
       "      <td>Parkdale Queen West Community Health Centre</td>\n",
       "      <td>168 Bathurst St</td>\n",
       "    </tr>\n",
       "    <tr>\n",
       "      <th>3</th>\n",
       "      <td>Parkdale Queen West Community Health Centre</td>\n",
       "      <td>1229 Queen St</td>\n",
       "    </tr>\n",
       "    <tr>\n",
       "      <th>4</th>\n",
       "      <td>Regent Park Bevel Up CTS Site, Regent Park Com...</td>\n",
       "      <td>465 Dundas St</td>\n",
       "    </tr>\n",
       "    <tr>\n",
       "      <th>5</th>\n",
       "      <td>South Riverdale Community Health Centre \\nKeepSIX</td>\n",
       "      <td>955 Queen St</td>\n",
       "    </tr>\n",
       "    <tr>\n",
       "      <th>6</th>\n",
       "      <td>Street Health</td>\n",
       "      <td>338 Dundas St</td>\n",
       "    </tr>\n",
       "    <tr>\n",
       "      <th>7</th>\n",
       "      <td>Kensington Market Overdose Prevention Service</td>\n",
       "      <td>260 Augusta</td>\n",
       "    </tr>\n",
       "    <tr>\n",
       "      <th>8</th>\n",
       "      <td>Toronto Public Health The Works</td>\n",
       "      <td>277 Victoria St</td>\n",
       "    </tr>\n",
       "    <tr>\n",
       "      <th>9</th>\n",
       "      <td>Casey House</td>\n",
       "      <td>119 Isabella St</td>\n",
       "    </tr>\n",
       "  </tbody>\n",
       "</table>\n",
       "</div>"
      ],
      "text/plain": [
       "                                       Location Name            Address\n",
       "0                                        Fred Victor      139 Jarvis St\n",
       "1                                      Moss Park CTS  134 Sherbourne St\n",
       "2        Parkdale Queen West Community Health Centre    168 Bathurst St\n",
       "3        Parkdale Queen West Community Health Centre      1229 Queen St\n",
       "4  Regent Park Bevel Up CTS Site, Regent Park Com...      465 Dundas St\n",
       "5  South Riverdale Community Health Centre \\nKeepSIX       955 Queen St\n",
       "6                                      Street Health      338 Dundas St\n",
       "7      Kensington Market Overdose Prevention Service        260 Augusta\n",
       "8                    Toronto Public Health The Works    277 Victoria St\n",
       "9                                        Casey House    119 Isabella St"
      ]
     },
     "execution_count": 22,
     "metadata": {},
     "output_type": "execute_result"
    }
   ],
   "source": [
    "# return the human-readable text from each row and concatenate with a space, then split at the spaces.\n",
    "text_cell = [cell.get_text(separator = \" \").strip() for cell in location_cells]\n",
    "\n",
    "# Extract the cells from the first column, which contain the location information.\n",
    "location_cell = [text_cell[index].split((\"\\n\")) for index in range(0,len(text_cell),2)]\n",
    "\n",
    "# Extract the 2nd (address) and 3rd (intersection) from each cell in text_cell\n",
    "location_list = [strng[1] + strng[2] for strng in location_cell]\n",
    "\n",
    "# Clean the data by removing noise (\"The Works\", \"KeepSIX*\", \".\")\n",
    "address_list = [entry.split(\"(\")[0].strip(\"The Works\").strip(\"KeepSIX*\").split(\".\")[0].strip() for entry in location_list]\n",
    "\n",
    "# Extract the names from the location_names list\n",
    "final_loc_names = [cell.get_text(separator = \" \").strip().strip('*') for cell in location_names]\n",
    "# Manually edit the location name for the second last entry\n",
    "final_loc_names[-2] = final_loc_names[-3] + ' ' + final_loc_names[-2]\n",
    "# Remove the redundant entry\n",
    "final_loc_names.pop(-3)\n",
    "\n",
    "# Create the DataFrame\n",
    "injection_site_locations_df = pd.DataFrame({\n",
    "    \"Location Name\": final_loc_names,\n",
    "    \"Address\": address_list\n",
    "})\n",
    "\n",
    "# View DataFrame\n",
    "injection_site_locations_df.head(10)"
   ]
  },
  {
   "cell_type": "markdown",
   "metadata": {},
   "source": [
    "# Part 2: Web Parsing for Needle Drop Box Locations\n",
    "\n",
    "Using the same method from above"
   ]
  },
  {
   "cell_type": "code",
   "execution_count": 23,
   "metadata": {},
   "outputs": [],
   "source": [
    "# Extract the HTML from the url and parse using BeautifulSoup\n",
    "url = \"https://www.toronto.ca/community-people/health-wellness-care/health-programs-advice/harm-reduction-supplies-and-locations/needle-drop-box-locations-in-toronto/\"\n",
    "response = requests.get(url)\n",
    "soup = BeautifulSoup(response.text, 'html.parser')"
   ]
  },
  {
   "cell_type": "code",
   "execution_count": 24,
   "metadata": {},
   "outputs": [],
   "source": [
    "# Extract the data from the table\n",
    "table_data = soup.find_all('td')"
   ]
  },
  {
   "cell_type": "markdown",
   "metadata": {},
   "source": [
    "View the properties of the HTML"
   ]
  },
  {
   "cell_type": "code",
   "execution_count": 25,
   "metadata": {},
   "outputs": [
    {
     "name": "stdout",
     "output_type": "stream",
     "text": [
      "86\n"
     ]
    }
   ],
   "source": [
    "# Check the number of entries\n",
    "print(len(table_data))"
   ]
  },
  {
   "cell_type": "code",
   "execution_count": 26,
   "metadata": {},
   "outputs": [
    {
     "name": "stdout",
     "output_type": "stream",
     "text": [
      "<td>The Works</td>\n",
      "\n",
      "<td><p>277 Victoria St.</p>\n",
      "<p>Victoria St. &amp; Dundas St. E.</p>\n",
      "</td>\n",
      "\n",
      "<td>Casey House</td>\n",
      "\n"
     ]
    }
   ],
   "source": [
    "# View what each entry in table_data is\n",
    "for cell in table_data[0:3]:\n",
    "    print(cell)\n",
    "    print()"
   ]
  },
  {
   "cell_type": "markdown",
   "metadata": {},
   "source": [
    "Each entry is a single cell, the table is 86 rows by 2 columns so it alternates between the Title (location name) column and Description (address) column."
   ]
  },
  {
   "cell_type": "code",
   "execution_count": 27,
   "metadata": {},
   "outputs": [
    {
     "name": "stdout",
     "output_type": "stream",
     "text": [
      "['277 Victoria St. ', ' Victoria St. & Dundas St. E.']\n"
     ]
    }
   ],
   "source": [
    "print(table_data[1].get_text(separator = \" \").strip().split(\"\\n\"))"
   ]
  },
  {
   "cell_type": "markdown",
   "metadata": {},
   "source": [
    "### Parse the strings\n",
    "\n",
    "We want to parse and extract every other entry in table_data starting from index 0 for location name, and 1 for address."
   ]
  },
  {
   "cell_type": "code",
   "execution_count": 28,
   "metadata": {},
   "outputs": [
    {
     "data": {
      "text/html": [
       "<div>\n",
       "<style scoped>\n",
       "    .dataframe tbody tr th:only-of-type {\n",
       "        vertical-align: middle;\n",
       "    }\n",
       "\n",
       "    .dataframe tbody tr th {\n",
       "        vertical-align: top;\n",
       "    }\n",
       "\n",
       "    .dataframe thead th {\n",
       "        text-align: right;\n",
       "    }\n",
       "</style>\n",
       "<table border=\"1\" class=\"dataframe\">\n",
       "  <thead>\n",
       "    <tr style=\"text-align: right;\">\n",
       "      <th></th>\n",
       "      <th>Location Name</th>\n",
       "      <th>Address</th>\n",
       "    </tr>\n",
       "  </thead>\n",
       "  <tbody>\n",
       "    <tr>\n",
       "      <th>0</th>\n",
       "      <td>The Works</td>\n",
       "      <td>277 Victoria St.</td>\n",
       "    </tr>\n",
       "    <tr>\n",
       "      <th>1</th>\n",
       "      <td>Casey House</td>\n",
       "      <td>119 Isabella St.</td>\n",
       "    </tr>\n",
       "    <tr>\n",
       "      <th>2</th>\n",
       "      <td>Dixon Hall</td>\n",
       "      <td>2714 Danforth Ave.</td>\n",
       "    </tr>\n",
       "    <tr>\n",
       "      <th>3</th>\n",
       "      <td>Eva's Satelite</td>\n",
       "      <td>25 Canterbury Place</td>\n",
       "    </tr>\n",
       "    <tr>\n",
       "      <th>4</th>\n",
       "      <td>Fred Victor</td>\n",
       "      <td>145 Queen St. E.</td>\n",
       "    </tr>\n",
       "    <tr>\n",
       "      <th>5</th>\n",
       "      <td>Good Shepherd</td>\n",
       "      <td>10 Tracy St.</td>\n",
       "    </tr>\n",
       "    <tr>\n",
       "      <th>6</th>\n",
       "      <td>LAMP Community Health Centre</td>\n",
       "      <td>185 Fifth St.</td>\n",
       "    </tr>\n",
       "    <tr>\n",
       "      <th>7</th>\n",
       "      <td>Margaret's</td>\n",
       "      <td>323 Dundas St. E.</td>\n",
       "    </tr>\n",
       "    <tr>\n",
       "      <th>8</th>\n",
       "      <td>Metropolitan Church</td>\n",
       "      <td>56 Queen St. E.</td>\n",
       "    </tr>\n",
       "    <tr>\n",
       "      <th>9</th>\n",
       "      <td>Moss Park Parks</td>\n",
       "      <td>150 Sherbourne St.</td>\n",
       "    </tr>\n",
       "  </tbody>\n",
       "</table>\n",
       "</div>"
      ],
      "text/plain": [
       "                  Location Name              Address\n",
       "0                     The Works     277 Victoria St.\n",
       "1                   Casey House     119 Isabella St.\n",
       "2                    Dixon Hall   2714 Danforth Ave.\n",
       "3                Eva's Satelite  25 Canterbury Place\n",
       "4                   Fred Victor     145 Queen St. E.\n",
       "5                 Good Shepherd         10 Tracy St.\n",
       "6  LAMP Community Health Centre        185 Fifth St.\n",
       "7                    Margaret's    323 Dundas St. E.\n",
       "8           Metropolitan Church      56 Queen St. E.\n",
       "9               Moss Park Parks   150 Sherbourne St."
      ]
     },
     "execution_count": 28,
     "metadata": {},
     "output_type": "execute_result"
    }
   ],
   "source": [
    "# Convert to human readable text\n",
    "text_cell = [cell.get_text(separator = \" \").strip().split(\"\\n\") for cell in table_data]\n",
    "\n",
    "# Extract every other entry in text_cell beginning from 0th index\n",
    "location_name = [text_cell[index][0] for index in range(0, len(text_cell), 2)]\n",
    "\n",
    "# Extract all other entries, indexing from the 1st index\n",
    "address = [text_cell[index][0].replace(\"\\xa0\", \" \").strip() for index in range(1, len(text_cell), 2)]\n",
    "\n",
    "# Create the DataFrame\n",
    "needle_dropbox_df = pd.DataFrame({\n",
    "    \"Location Name\": location_name,\n",
    "    \"Address\": address\n",
    "})\n",
    "\n",
    "# View DataFrame\n",
    "needle_dropbox_df.head(10)"
   ]
  },
  {
   "cell_type": "code",
   "execution_count": 30,
   "metadata": {},
   "outputs": [],
   "source": [
    "injection_site_locations_df.to_csv(\"injection_site_locations.csv\", index=False)\n",
    "needle_dropbox_df.to_csv(\"needle_dropbox_locations.csv\", index = False)"
   ]
  },
  {
   "cell_type": "code",
   "execution_count": null,
   "metadata": {},
   "outputs": [],
   "source": []
  }
 ],
 "metadata": {
  "kernelspec": {
   "display_name": "base",
   "language": "python",
   "name": "python3"
  },
  "language_info": {
   "codemirror_mode": {
    "name": "ipython",
    "version": 3
   },
   "file_extension": ".py",
   "mimetype": "text/x-python",
   "name": "python",
   "nbconvert_exporter": "python",
   "pygments_lexer": "ipython3",
   "version": "3.8.3"
  }
 },
 "nbformat": 4,
 "nbformat_minor": 2
}
